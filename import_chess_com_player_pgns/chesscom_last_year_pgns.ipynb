{
  "cells": [
    {
      "cell_type": "markdown",
      "metadata": {},
      "source": [
        "# Chess.com — Download last year's PGN games for selected players\n",
        "\n",
        "This notebook downloads **the last 365 days** of games for the following players from Chess.com's Published Data API and saves them in separate folders:\n",
        "\n",
        "- Magnus Carlsen → `MagnusCarlsen`\n",
        "- Fabiano Caruana → `FabianoCaruana`\n",
        "- Ding Liren → `Chefshouse`\n",
        "- Boris Gelfand → `Gelfandbeautiful`\n",
        "- Hikaru Nakamura → `Hikaru`\n",
        "- Anish Giri → `AnishGiri`\n",
        "- Vladimir Kramnik → `VladimirKramnik`\n",
        "\n",
        "**What it does:**\n",
        "1. Figures out the last 365 days (inclusive) relative to *when you run this notebook*.\n",
        "2. For each player, it requests each monthly archive in that range via the Chess.com API\n",
        "   and downloads the PGN for that month (if available) to a dedicated folder.\n",
        "3. Concatenates those monthly files into one `all_<username>_<date-range>.pgn` per player.\n",
        "\n",
        "**Notes**\n",
        "- The Chess.com Published Data API returns archives grouped by **year/month**; some months may be missing (no games).\n",
        "- If any request returns **404** (no archive or no PGN), the code just skips that month.\n",
        "- It handles basic rate-limiting with a simple retry/backoff.\n",
        "- Kramnik's account is currently shown as closed on Chess.com; earlier months may still be downloadable.\n",
        "\n",
        "Run the cells top-to-bottom. If a library is missing, the notebook will try to `pip install` it.\n"
      ]
    },
    {
      "cell_type": "code",
      "execution_count": 33,
      "id": "e4a74eb6",
      "metadata": {},
      "outputs": [],
      "source": [
        "# Install required packages if needed\n",
        "import sys, subprocess\n",
        "def ensure(pkg):\n",
        "    try:\n",
        "        __import__(pkg)\n",
        "    except Exception:\n",
        "        subprocess.check_call([sys.executable, '-m', 'pip', 'install', pkg])\n",
        "\n",
        "for p in [\"requests\", \"tqdm\"]:\n",
        "    ensure(p)\n",
        "\n",
        "import os, time, math\n",
        "from datetime import date, timedelta\n",
        "from tqdm import tqdm\n",
        "import requests\n"
      ]
    },
    {
      "cell_type": "code",
      "execution_count": null,
      "id": "19f9c14e",
      "metadata": {},
      "outputs": [
        {
          "name": "stdout",
          "output_type": "stream",
          "text": [
            "Collecting months: [(2020, 8), (2020, 9), (2020, 10), (2020, 11), (2020, 12), (2021, 1), (2021, 2), (2021, 3), (2021, 4), (2021, 5), (2021, 6), (2021, 7), (2021, 8), (2021, 9), (2021, 10), (2021, 11), (2021, 12), (2022, 1), (2022, 2), (2022, 3), (2022, 4), (2022, 5), (2022, 6), (2022, 7), (2022, 8), (2022, 9), (2022, 10), (2022, 11), (2022, 12), (2023, 1), (2023, 2), (2023, 3), (2023, 4), (2023, 5), (2023, 6), (2023, 7), (2023, 8), (2023, 9), (2023, 10), (2023, 11), (2023, 12), (2024, 1), (2024, 2), (2024, 3), (2024, 4), (2024, 5), (2024, 6), (2024, 7), (2024, 8), (2024, 9), (2024, 10), (2024, 11), (2024, 12), (2025, 1), (2025, 2), (2025, 3), (2025, 4), (2025, 5), (2025, 6), (2025, 7), (2025, 8)]\n",
            "Date range tag: 2020-08-14_to_2025-08-13\n"
          ]
        }
      ],
      "source": [
        "# Configuration\n",
        "BASE_DIR = os.path.abspath(\"chesscom_pgn_last_year\")  # change if you like\n",
        "os.makedirs(BASE_DIR, exist_ok=True)\n",
        "\n",
        "players = {\n",
        "    # \"Magnus Carlsen\": \"MagnusCarlsen\",\n",
        "    # \"Fabiano Caruana\": \"FabianoCaruana\",\n",
        "    # \"Ding Liren\": \"Chefshouse\",\n",
        "    # \"Daniel Naroditsky\": \"DanielNaroditsky\",\n",
        "    # \"Alireza Firouzja\": \"Firouzja2003\",\n",
        "    # \"Boris Gelfand\": \"Gelfandbeautiful\",\n",
        "    # \"Hikaru Nakamura\": \"HikaruNakamura\",\n",
        "    # \"Anish Giri\": \"AnishGiri\",\n",
        "    # \"Levy Rozman\": \"gothamchess\",\n",
        "    # \"Hans Niemann\": \"HansOnTwitch\",\n",
        "    \"Maxime Vachier-Lagrave\": \"LyonBeast\",\n",
        "    \"Levon Aronian\": \"LevonAronian\",\n",
        "    \"Viswanathan Anand\": \"Anand\",\n",
        "    \"Gukesh D\": \"GukeshDommaraju\",\n",
        "    \"Praggnanandhaa\": \"rpragchess\",\n",
        "    \"Wesley So\": \"GMWSO\",\n",
        "}\n",
        "\n",
        "# Compute last 365 days as a set of (year, month) pairs\n",
        "today = date.today()\n",
        "start_date = today - timedelta(days=1825)\n",
        "\n",
        "def months_between(start: date, end: date):\n",
        "    y, m = start.year, start.month\n",
        "    res = []\n",
        "    while (y < end.year) or (y == end.year and m <= end.month):\n",
        "        res.append((y, m))\n",
        "        # increment month\n",
        "        if m == 12:\n",
        "            m = 1; y += 1\n",
        "        else:\n",
        "            m += 1\n",
        "    return res\n",
        "\n",
        "months = months_between(start_date.replace(day=1), today)\n",
        "date_range_tag = f\"{start_date.isoformat()}_to_{today.isoformat()}\"\n",
        "print(f\"Collecting months: {months}\\nDate range tag: {date_range_tag}\")\n"
      ]
    },
    {
      "cell_type": "code",
      "execution_count": 48,
      "id": "51c33179",
      "metadata": {},
      "outputs": [],
      "source": [
        "# Helpers to fetch monthly PGN and save\n",
        "HEADERS = {\n",
        "    \"User-Agent\": \"PGN-fetcher/1.0 (+https://chess.com; script for personal research)\",\n",
        "    \"Accept\": \"text/plain,application/x-chess-pgn,*/-*\",\n",
        "}\n",
        "\n",
        "def save_month_pgn(username: str, year: int, month: int, out_dir: str, retries: int = 3, backoff: float = 1.5):\n",
        "    url = f\"https://api.chess.com/pub/player/{username}/games/{year}/{month:02d}/pgn\"\n",
        "    for attempt in range(retries):\n",
        "        r = requests.get(url, headers=HEADERS, timeout=30)\n",
        "        if r.status_code == 200 and r.text.strip():\n",
        "            fn = os.path.join(out_dir, f\"{year}-{month:02d}.pgn\")\n",
        "            with open(fn, \"w\", encoding=\"utf-8\") as f:\n",
        "                f.write(r.text)\n",
        "            return True, fn\n",
        "        elif r.status_code in (404, 410):\n",
        "            # No archive or PGN for this month\n",
        "            return False, None\n",
        "        elif r.status_code == 429:\n",
        "            # Too many requests — back off and try again\n",
        "            sleep_s = backoff ** (attempt + 1)\n",
        "            time.sleep(sleep_s)\n",
        "            continue\n",
        "        else:\n",
        "            # Other errors — small delay and retry\n",
        "            time.sleep(1.0)\n",
        "            continue\n",
        "    return False, None\n",
        "\n",
        "def concat_pgns(src_dir: str, out_path: str):\n",
        "    parts = []\n",
        "    for name in sorted(os.listdir(src_dir)):\n",
        "        if name.lower().endswith('.pgn'):\n",
        "            with open(os.path.join(src_dir, name), 'r', encoding='utf-8') as f:\n",
        "                parts.append(f.read().rstrip())\n",
        "    with open(out_path, 'w', encoding='utf-8') as out:\n",
        "        out.write(\"\\n\\n\".join([p for p in parts if p]))\n"
      ]
    },
    {
      "cell_type": "code",
      "execution_count": 49,
      "id": "9ce076b3",
      "metadata": {},
      "outputs": [
        {
          "name": "stdout",
          "output_type": "stream",
          "text": [
            "\n",
            "=== Maxime Vachier-Lagrave (@LyonBeast) ===\n"
          ]
        },
        {
          "name": "stderr",
          "output_type": "stream",
          "text": [
            "LyonBeast: 100%|██████████| 61/61 [02:59<00:00,  2.94s/it]\n"
          ]
        },
        {
          "name": "stdout",
          "output_type": "stream",
          "text": [
            "\n",
            "=== Levon Aronian (@LevonAronian) ===\n"
          ]
        },
        {
          "name": "stderr",
          "output_type": "stream",
          "text": [
            "LevonAronian: 100%|██████████| 61/61 [04:06<00:00,  4.04s/it]\n"
          ]
        },
        {
          "name": "stdout",
          "output_type": "stream",
          "text": [
            "\n",
            "=== Viswanathan Anand (@Anand) ===\n"
          ]
        },
        {
          "name": "stderr",
          "output_type": "stream",
          "text": [
            "Anand: 100%|██████████| 61/61 [05:24<00:00,  5.32s/it]\n"
          ]
        },
        {
          "name": "stdout",
          "output_type": "stream",
          "text": [
            "\n",
            "=== Gukesh D (@GukeshDommaraju) ===\n"
          ]
        },
        {
          "name": "stderr",
          "output_type": "stream",
          "text": [
            "GukeshDommaraju: 100%|██████████| 61/61 [02:45<00:00,  2.71s/it]\n"
          ]
        },
        {
          "name": "stdout",
          "output_type": "stream",
          "text": [
            "\n",
            "=== Praggnanandhaa (@rpragchess) ===\n"
          ]
        },
        {
          "name": "stderr",
          "output_type": "stream",
          "text": [
            "rpragchess: 100%|██████████| 61/61 [00:51<00:00,  1.18it/s]\n"
          ]
        },
        {
          "name": "stdout",
          "output_type": "stream",
          "text": [
            "\n",
            "=== Wesley So (@GMWSO) ===\n"
          ]
        },
        {
          "name": "stderr",
          "output_type": "stream",
          "text": [
            "GMWSO: 100%|██████████| 61/61 [01:41<00:00,  1.66s/it]\n"
          ]
        },
        {
          "name": "stdout",
          "output_type": "stream",
          "text": [
            "\n",
            "Done. Summary:\n",
            "- Maxime Vachier-Lagrave (@LyonBeast): 54 months | W 1775 → /Users/syusuf/myprojects/experiments/import_chess_com_player_pgns/chesscom_pgn_last_year/all_LyonBeast_white_2020-08-14_to_2025-08-13.pgn | B 1787 → /Users/syusuf/myprojects/experiments/import_chess_com_player_pgns/chesscom_pgn_last_year/all_LyonBeast_black_2020-08-14_to_2025-08-13.pgn\n",
            "- Levon Aronian (@LevonAronian): 38 months | W 537 → /Users/syusuf/myprojects/experiments/import_chess_com_player_pgns/chesscom_pgn_last_year/all_LevonAronian_white_2020-08-14_to_2025-08-13.pgn | B 539 → /Users/syusuf/myprojects/experiments/import_chess_com_player_pgns/chesscom_pgn_last_year/all_LevonAronian_black_2020-08-14_to_2025-08-13.pgn\n",
            "- Viswanathan Anand (@Anand): 0 months | W 0 → /Users/syusuf/myprojects/experiments/import_chess_com_player_pgns/chesscom_pgn_last_year/all_Anand_white_2020-08-14_to_2025-08-13.pgn | B 0 → /Users/syusuf/myprojects/experiments/import_chess_com_player_pgns/chesscom_pgn_last_year/all_Anand_black_2020-08-14_to_2025-08-13.pgn\n",
            "- Gukesh D (@GukeshDommaraju): 27 months | W 686 → /Users/syusuf/myprojects/experiments/import_chess_com_player_pgns/chesscom_pgn_last_year/all_GukeshDommaraju_white_2020-08-14_to_2025-08-13.pgn | B 656 → /Users/syusuf/myprojects/experiments/import_chess_com_player_pgns/chesscom_pgn_last_year/all_GukeshDommaraju_black_2020-08-14_to_2025-08-13.pgn\n",
            "- Praggnanandhaa (@rpragchess): 58 months | W 2627 → /Users/syusuf/myprojects/experiments/import_chess_com_player_pgns/chesscom_pgn_last_year/all_rpragchess_white_2020-08-14_to_2025-08-13.pgn | B 2591 → /Users/syusuf/myprojects/experiments/import_chess_com_player_pgns/chesscom_pgn_last_year/all_rpragchess_black_2020-08-14_to_2025-08-13.pgn\n",
            "- Wesley So (@GMWSO): 49 months | W 2268 → /Users/syusuf/myprojects/experiments/import_chess_com_player_pgns/chesscom_pgn_last_year/all_GMWSO_white_2020-08-14_to_2025-08-13.pgn | B 2261 → /Users/syusuf/myprojects/experiments/import_chess_com_player_pgns/chesscom_pgn_last_year/all_GMWSO_black_2020-08-14_to_2025-08-13.pgn\n"
          ]
        }
      ],
      "source": [
        "import chess\n",
        "import chess.pgn\n",
        "\n",
        "# Fetch for each player\n",
        "summary = {}\n",
        "for display_name, username in players.items():\n",
        "    print(f\"\\n=== {display_name} (@{username}) ===\")\n",
        "    player_dir = os.path.join(BASE_DIR, username)\n",
        "    os.makedirs(player_dir, exist_ok=True)\n",
        "    downloaded = []\n",
        "    for (y, m) in tqdm(months, desc=f\"{username}\"):\n",
        "        ok, fp = save_month_pgn(username, y, m, player_dir)\n",
        "        if ok and fp:\n",
        "            downloaded.append(fp)\n",
        "\n",
        "    # Split games by color into two combined PGNs\n",
        "    combined_white_path = os.path.join(BASE_DIR, f\"all_{username}_white_{date_range_tag}.pgn\")\n",
        "    combined_black_path = os.path.join(BASE_DIR, f\"all_{username}_black_{date_range_tag}.pgn\")\n",
        "    white_count = 0\n",
        "    black_count = 0\n",
        "    with open(combined_white_path, \"w\", encoding=\"utf-8\") as fw, open(combined_black_path, \"w\", encoding=\"utf-8\") as fb:\n",
        "        for monthly in sorted(downloaded):\n",
        "            with open(monthly, \"r\", encoding=\"utf-8\") as fpgn:\n",
        "                while True:\n",
        "                    game = chess.pgn.read_game(fpgn)\n",
        "                    if game is None:\n",
        "                        break\n",
        "                    w = game.headers.get(\"White\",\"\").lower()\n",
        "                    b = game.headers.get(\"Black\",\"\").lower()\n",
        "                    u = username.lower()\n",
        "                    if w == u:\n",
        "                        exporter = chess.pgn.StringExporter(headers=True, variations=False, comments=False)\n",
        "                        fw.write(game.accept(exporter) + \"\\n\\n\")\n",
        "                        white_count += 1\n",
        "                    if b == u:\n",
        "                        exporter = chess.pgn.StringExporter(headers=True, variations=False, comments=False)\n",
        "                        fb.write(game.accept(exporter) + \"\\n\\n\")\n",
        "                        black_count += 1\n",
        "\n",
        "    # Original (all games merged) combined PGN (kept if still needed)\n",
        "    combined_path = os.path.join(BASE_DIR, f\"all_{username}_{date_range_tag}.pgn\")\n",
        "    concat_pgns(player_dir, combined_path)\n",
        "\n",
        "    cnt = sum(1 for n in os.listdir(player_dir) if n.lower().endswith('.pgn'))\n",
        "    summary[username] = {\n",
        "        \"display_name\": display_name,\n",
        "        \"folder\": player_dir,\n",
        "        \"monthly_files\": cnt,\n",
        "        \"combined_pgn_all\": combined_path,\n",
        "        \"combined_pgn_white\": combined_white_path,\n",
        "        \"combined_pgn_black\": combined_black_path,\n",
        "        \"white_games\": white_count,\n",
        "        \"black_games\": black_count,\n",
        "    }\n",
        "\n",
        "print(\"\\nDone. Summary:\")\n",
        "for u, info in summary.items():\n",
        "    print(f\"- {info['display_name']} (@{u}): {info['monthly_files']} months | W {info['white_games']} → {info['combined_pgn_white']} | B {info['black_games']} → {info['combined_pgn_black']}\")\n"
      ]
    },
    {
      "cell_type": "code",
      "execution_count": null,
      "id": "7edef268",
      "metadata": {},
      "outputs": [],
      "source": []
    },
    {
      "cell_type": "code",
      "execution_count": null,
      "id": "a010304d",
      "metadata": {},
      "outputs": [
        {
          "name": "stdout",
          "output_type": "stream",
          "text": [
            "Output will be saved in the 'fen_moves_output' directory.\n",
            "\n",
            "--- Processing files for color: WHITE from 'white_games' ---\n",
            "  Processing: all_AnishGiri_white_2020-08-14_to_2025-08-13.pgn -> all_AnishGiri_white_2020-08-14_to_2025-08-13_fen_moves.csv\n",
            "  Processing: all_LevonAronian_white_2020-08-14_to_2025-08-13.pgn -> all_LevonAronian_white_2020-08-14_to_2025-08-13_fen_moves.csv\n",
            "  Processing: all_GukeshDommaraju_white_2020-08-14_to_2025-08-13.pgn -> all_GukeshDommaraju_white_2020-08-14_to_2025-08-13_fen_moves.csv\n",
            "  Processing: all_Chefshouse_white_2020-08-14_to_2025-08-13.pgn -> all_Chefshouse_white_2020-08-14_to_2025-08-13_fen_moves.csv\n",
            "  Processing: all_MagnusCarlsen_white_2020-08-14_to_2025-08-13.pgn -> all_MagnusCarlsen_white_2020-08-14_to_2025-08-13_fen_moves.csv\n",
            "  Processing: all_GMWSO_white_2020-08-14_to_2025-08-13.pgn -> all_GMWSO_white_2020-08-14_to_2025-08-13_fen_moves.csv\n",
            "  Processing: all_FabianoCaruana_white_2020-08-14_to_2025-08-13.pgn -> all_FabianoCaruana_white_2020-08-14_to_2025-08-13_fen_moves.csv\n",
            "  Processing: all_LyonBeast_white_2020-08-14_to_2025-08-13.pgn -> all_LyonBeast_white_2020-08-14_to_2025-08-13_fen_moves.csv\n",
            "  Processing: all_rpragchess_white_2020-08-14_to_2025-08-13.pgn -> all_rpragchess_white_2020-08-14_to_2025-08-13_fen_moves.csv\n",
            "\n",
            "--- Processing files for color: BLACK from 'black_games' ---\n",
            "  Processing: all_MagnusCarlsen_black_2020-08-14_to_2025-08-13.pgn -> all_MagnusCarlsen_black_2020-08-14_to_2025-08-13_fen_moves.csv\n",
            "  Processing: all_Chefshouse_black_2020-08-14_to_2025-08-13.pgn -> all_Chefshouse_black_2020-08-14_to_2025-08-13_fen_moves.csv\n",
            "  Processing: all_GukeshDommaraju_black_2020-08-14_to_2025-08-13.pgn -> all_GukeshDommaraju_black_2020-08-14_to_2025-08-13_fen_moves.csv\n",
            "  Processing: all_LevonAronian_black_2020-08-14_to_2025-08-13.pgn -> all_LevonAronian_black_2020-08-14_to_2025-08-13_fen_moves.csv\n",
            "  Processing: all_AnishGiri_black_2020-08-14_to_2025-08-13.pgn -> all_AnishGiri_black_2020-08-14_to_2025-08-13_fen_moves.csv\n",
            "  Processing: all_LyonBeast_black_2020-08-14_to_2025-08-13.pgn -> all_LyonBeast_black_2020-08-14_to_2025-08-13_fen_moves.csv\n",
            "  Processing: all_rpragchess_black_2020-08-14_to_2025-08-13.pgn -> all_rpragchess_black_2020-08-14_to_2025-08-13_fen_moves.csv\n",
            "  Processing: all_FabianoCaruana_black_2020-08-14_to_2025-08-13.pgn -> all_FabianoCaruana_black_2020-08-14_to_2025-08-13_fen_moves.csv\n",
            "  Processing: all_GMWSO_black_2020-08-14_to_2025-08-13.pgn -> all_GMWSO_black_2020-08-14_to_2025-08-13_fen_moves.csv\n",
            "\n",
            "\n",
            "--- PROCESSING COMPLETE ---\n",
            "Successfully processed 18 PGN files.\n",
            "Extracted a total of 713128 moves (skipping first 2 moves per player).\n",
            "All output files have been saved to the 'fen_moves_output' directory as CSV files.\n"
          ]
        }
      ],
      "source": [
        "import chess\n",
        "import chess.pgn\n",
        "import os\n",
        "import csv\n",
        "\n",
        "# --- Configuration ---\n",
        "# Directories containing the PGN files to process.\n",
        "# Assumes 'used_black_games' and 'used_white_games' are one level up from this notebook.\n",
        "SOURCE_DIRS = {\n",
        "    \"white\": \"white_games\",\n",
        "    \"black\": \"black_games\"\n",
        "}\n",
        "\n",
        "# The directory where the transformed data will be saved.\n",
        "OUTPUT_DIR = \"fen_moves_output\"\n",
        "\n",
        "# Number of initial moves to skip per player\n",
        "MOVES_TO_SKIP = 2\n",
        "\n",
        "MAX_POSITIONS_PER_FILE = 200_000\n",
        "\n",
        "# --- Create Output Directory ---\n",
        "os.makedirs(OUTPUT_DIR, exist_ok=True)\n",
        "print(f\"Output will be saved in the '{OUTPUT_DIR}' directory.\")\n",
        "\n",
        "# --- Main Processing Logic ---\n",
        "total_files_processed = 0\n",
        "total_moves_extracted = 0\n",
        "\n",
        "# Loop through each color and its corresponding source directory\n",
        "for color, source_dir in SOURCE_DIRS.items():\n",
        "    \n",
        "    if not os.path.exists(source_dir):\n",
        "        print(f\"\\nWarning: Source directory not found at '{source_dir}'. Skipping.\")\n",
        "        continue\n",
        "\n",
        "    print(f\"\\n--- Processing files for color: {color.upper()} from '{source_dir}' ---\")\n",
        "    \n",
        "    try:\n",
        "        pgn_files = [f for f in os.listdir(source_dir) if f.endswith(\".pgn\")]\n",
        "        if not pgn_files:\n",
        "            print(\"No .pgn files found in this directory.\")\n",
        "            continue\n",
        "    except FileNotFoundError:\n",
        "        print(f\"Error: Could not access directory '{source_dir}'.\")\n",
        "        continue\n",
        "\n",
        "    # Determine the color to extract moves for\n",
        "    color_to_extract = chess.BLACK if color == \"black\" else chess.WHITE\n",
        "\n",
        "    # Process each PGN file in the directory\n",
        "    for pgn_filename in pgn_files:\n",
        "        input_pgn_path = os.path.join(source_dir, pgn_filename)\n",
        "        \n",
        "        # Create a corresponding output filename (now with .csv extension)\n",
        "        output_csv_filename = os.path.splitext(pgn_filename)[0] + \"_fen_moves.csv\"\n",
        "        output_csv_path = os.path.join(OUTPUT_DIR, output_csv_filename)\n",
        "        \n",
        "        print(f\"  Processing: {pgn_filename} -> {output_csv_filename}\")\n",
        "\n",
        "        try:\n",
        "            with open(input_pgn_path, encoding='utf-8') as pgn_file, open(output_csv_path, 'w', newline='') as csv_file:\n",
        "                # Create CSV writer\n",
        "                csv_writer = csv.writer(csv_file)\n",
        "                # Write header\n",
        "                csv_writer.writerow(['FEN', 'MOVE'])\n",
        "                \n",
        "                file_moves_count = 0\n",
        "                \n",
        "                while file_moves_count < MAX_POSITIONS_PER_FILE:\n",
        "                    try:\n",
        "                        game = chess.pgn.read_game(pgn_file)\n",
        "                    except (ValueError, RuntimeError):\n",
        "                        # Skip malformed games without crashing\n",
        "                        continue\n",
        "\n",
        "                    if game is None:\n",
        "                        break\n",
        "                    \n",
        "                    event_l   = game.headers.get(\"Event\",\"\").lower()\n",
        "                    variant_l = game.headers.get(\"Variant\",\"\").lower()\n",
        "                    \n",
        "                    if (\"chess960\" in event_l) or (\"fischer\" in event_l) or (\"chess960\" in variant_l) or (\"fischer\" in variant_l):\n",
        "                        break\n",
        "                    \n",
        "                    board = game.board()\n",
        "                    move_count_per_player = {chess.WHITE: 0, chess.BLACK: 0}\n",
        "                    \n",
        "                    for move in game.mainline_moves():\n",
        "                        current_player = board.turn\n",
        "                        \n",
        "                        # Check if it's the correct player's turn to move\n",
        "                        if current_player == color_to_extract:\n",
        "                            move_count_per_player[current_player] += 1\n",
        "                            \n",
        "                            # Skip the first MOVES_TO_SKIP moves for this player\n",
        "                            if move_count_per_player[current_player] > MOVES_TO_SKIP:\n",
        "                                fen_before_move = board.fen()\n",
        "                                san_move = board.san(move)\n",
        "                                # Write to CSV file\n",
        "                                csv_writer.writerow([fen_before_move, san_move])\n",
        "                                file_moves_count += 1\n",
        "                        \n",
        "                        # Always push the move to advance the board state\n",
        "                        board.push(move)\n",
        "            \n",
        "            total_files_processed += 1\n",
        "            total_moves_extracted += file_moves_count\n",
        "\n",
        "        except Exception as e:\n",
        "            print(f\"    ERROR processing file {pgn_filename}: {e}\")\n",
        "\n",
        "\n",
        "print(f\"\\n\\n--- PROCESSING COMPLETE ---\")\n",
        "print(f\"Successfully processed {total_files_processed} PGN files.\")\n",
        "print(f\"Extracted a total of {total_moves_extracted} moves (skipping first {MOVES_TO_SKIP} moves per player).\")\n",
        "print(f\"All output files have been saved to the '{OUTPUT_DIR}' directory as CSV files.\")"
      ]
    },
    {
      "cell_type": "markdown",
      "metadata": {},
      "source": [
        "## Optional: Customize the players or date range\n",
        "\n",
        "To change the list of players, edit the `players` dict above. To change the date range, replace the\n",
        "calculation of `start_date` with a fixed date (e.g., `date(2024, 8, 13)`) or adjust the number of days.\n"
      ]
    }
  ],
  "metadata": {
    "kernelspec": {
      "display_name": "thesis",
      "language": "python",
      "name": "python3"
    },
    "language_info": {
      "codemirror_mode": {
        "name": "ipython",
        "version": 3
      },
      "file_extension": ".py",
      "mimetype": "text/x-python",
      "name": "python",
      "nbconvert_exporter": "python",
      "pygments_lexer": "ipython3",
      "version": "3.13.5"
    }
  },
  "nbformat": 4,
  "nbformat_minor": 5
}
